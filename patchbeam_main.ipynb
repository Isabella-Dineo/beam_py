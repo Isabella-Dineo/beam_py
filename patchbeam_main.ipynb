{
 "cells": [
  {
   "cell_type": "code",
   "execution_count": 1,
   "metadata": {
    "collapsed": true
   },
   "outputs": [],
   "source": [
    "import numpy as np \n",
    "import matplotlib.pyplot as plt \n",
    "import matplotlib.cm as cm\n",
    "%matplotlib inline"
   ]
  },
  {
   "cell_type": "code",
   "execution_count": 2,
   "metadata": {
    "collapsed": false
   },
   "outputs": [
    {
     "name": "stdout",
     "output_type": "stream",
     "text": [
      "[  51.02644627  476.09951645  457.37277693]\n"
     ]
    }
   ],
   "source": [
    "def emission_height(P, hmin, hmax, npatch):\n",
    "    \"\"\"Function to determine the emission height range given hmin and hmax. Allowed emision heights for young \n",
    "       pulsars range between [950, 1000] and between [20, 1000] for old pulsars.\n",
    "    \n",
    "       Args:\n",
    "       -----\n",
    "       P      : rotational period.\n",
    "       hmin   : minimum emission height (in km).\n",
    "       hmax   : maximum emission height (in km).\n",
    "       npatch : integer number of emission patches.\n",
    "       \n",
    "       Returns:\n",
    "       --------\n",
    "       H      : random emission height.\n",
    "    \"\"\"\n",
    "    \n",
    "    #num_H = np.random.randint(3,8)  # random number of discrete emission height \n",
    "    num_H = npatch\n",
    "    #np.random.seed(0)  # makes the random numbers predictable; the same numbers appear every time.\n",
    "    \n",
    "#   emission height for a short period pulsar: only one emission height \n",
    "    if P <= 0.15:\n",
    "        if hmin >= 950 and hmax <= 1000:\n",
    "            H = np.random.uniform(hmin, hmax)\n",
    "            \n",
    "        else: print \"error, emission range not allowed for pulse period P < 0.15 seconds\"\n",
    "            \n",
    "#   emission height for a long period pulsar:        \n",
    "    if P > 0.15:\n",
    "        if hmin >= 20 and hmax <= 1000:\n",
    "            H = np.random.uniform(hmin, hmax, size=num_H)\n",
    "        \n",
    "        else: print \"error, emission range not allowed for pulse period P > 0.15 seconds\"\n",
    "        \n",
    "    return H\n",
    "\n",
    "########################### simple test #############################\n",
    "if __name__ == \"__main__\":\n",
    "    P = 0.16\n",
    "    hmin = 50\n",
    "    hmax = 950\n",
    "    npatch = 3\n",
    "    H = emission_height(P, hmin, hmax, npatch)\n",
    "    print H  "
   ]
  },
  {
   "cell_type": "code",
   "execution_count": 3,
   "metadata": {
    "collapsed": false,
    "scrolled": true
   },
   "outputs": [
    {
     "name": "stdout",
     "output_type": "stream",
     "text": [
      "89.8967204028 [ 28.65154817  28.65154816  28.65154813  28.65154808  28.651548\n",
      "  28.65154791  28.65154779  28.65154765  28.65154749  28.65154731\n",
      "  28.65154711  28.65154689  28.65154665  28.65154638  28.6515461\n",
      "  28.6515458   28.65154547  28.65154513  28.65154476  28.65154437\n",
      "  28.65154397  28.65154354  28.6515431   28.65154263  28.65154214\n",
      "  28.65154164  28.65154112  28.65154057  28.65154001  28.65153943\n",
      "  28.65153883  28.65153822  28.65153758  28.65153693  28.65153626\n",
      "  28.65153557  28.65153486  28.65153414  28.6515334   28.65153265\n",
      "  28.65153187  28.65153108  28.65153028  28.65152946  28.65152862\n",
      "  28.65152777  28.65152691  28.65152603  28.65152513  28.65152422\n",
      "  28.6515233   28.65152236  28.65152142  28.65152045  28.65151948\n",
      "  28.65151849  28.65151749  28.65151648  28.65151546  28.65151443\n",
      "  28.65151338  28.65151233  28.65151126  28.65151019  28.65150911\n",
      "  28.65150801  28.65150691  28.6515058   28.65150468  28.65150356\n",
      "  28.65150243  28.65150129  28.65150014  28.65149899  28.65149783\n",
      "  28.65149666  28.65149549  28.65149432  28.65149314  28.65149195\n",
      "  28.65149077  28.65148957  28.65148838  28.65148718  28.65148598\n",
      "  28.65148478  28.65148358  28.65148238  28.65148117  28.65147997\n",
      "  28.65147876  28.65147756  28.65147635  28.65147515  28.65147394\n",
      "  28.65147274  28.65147154  28.65147035  28.65146915  28.65146796\n",
      "  28.65146678  28.65146559  28.65146441  28.65146324  28.65146207\n",
      "  28.6514609   28.65145975  28.65145859  28.65145745  28.65145631\n",
      "  28.65145517  28.65145405  28.65145293  28.65145182  28.65145072\n",
      "  28.65144963  28.65144854  28.65144747  28.6514464   28.65144535\n",
      "  28.65144431  28.65144327  28.65144225  28.65144124  28.65144024\n",
      "  28.65143925  28.65143827  28.65143731  28.65143636  28.65143542\n",
      "  28.6514345   28.65143358  28.65143269  28.6514318   28.65143094\n",
      "  28.65143008  28.65142924  28.65142842  28.65142761  28.65142682\n",
      "  28.65142604  28.65142528  28.65142453  28.6514238   28.65142309\n",
      "  28.6514224   28.65142172  28.65142106  28.65142042  28.65141979\n",
      "  28.65141919  28.6514186   28.65141803  28.65141748  28.65141694\n",
      "  28.65141643  28.65141593  28.65141546  28.651415    28.65141456\n",
      "  28.65141414  28.65141374  28.65141336  28.651413    28.65141266\n",
      "  28.65141235  28.65141205  28.65141177  28.65141151  28.65141127\n",
      "  28.65141105  28.65141086  28.65141068  28.65141052  28.65141039\n",
      "  28.65141027  28.65141018  28.65141011  28.65141006  28.65141002\n",
      "  28.65141001  28.65141002  28.65141006  28.65141011  28.65141018\n",
      "  28.65141027  28.65141039  28.65141052  28.65141068  28.65141086\n",
      "  28.65141105  28.65141127  28.65141151  28.65141177  28.65141205\n",
      "  28.65141235  28.65141266  28.651413    28.65141336  28.65141374\n",
      "  28.65141414  28.65141456  28.651415    28.65141546  28.65141593\n",
      "  28.65141643  28.65141694  28.65141748  28.65141803  28.6514186\n",
      "  28.65141919  28.65141979  28.65142042  28.65142106  28.65142172\n",
      "  28.6514224   28.65142309  28.6514238   28.65142453  28.65142528\n",
      "  28.65142604  28.65142682  28.65142761  28.65142842  28.65142924\n",
      "  28.65143008  28.65143094  28.6514318   28.65143269  28.65143358\n",
      "  28.6514345   28.65143542  28.65143636  28.65143731  28.65143827\n",
      "  28.65143925  28.65144024  28.65144124  28.65144225  28.65144327\n",
      "  28.65144431  28.65144535  28.6514464   28.65144747  28.65144854\n",
      "  28.65144963  28.65145072  28.65145182  28.65145293  28.65145405\n",
      "  28.65145517  28.65145631  28.65145745  28.65145859  28.65145975\n",
      "  28.6514609   28.65146207  28.65146324  28.65146441  28.65146559\n",
      "  28.65146678  28.65146796  28.65146915  28.65147035  28.65147154\n",
      "  28.65147274  28.65147394  28.65147515  28.65147635  28.65147756\n",
      "  28.65147876  28.65147997  28.65148117  28.65148238  28.65148358\n",
      "  28.65148478  28.65148598  28.65148718  28.65148838  28.65148957\n",
      "  28.65149077  28.65149195  28.65149314  28.65149432  28.65149549\n",
      "  28.65149666  28.65149783  28.65149899  28.65150014  28.65150129\n",
      "  28.65150243  28.65150356  28.65150468  28.6515058   28.65150691\n",
      "  28.65150801  28.65150911  28.65151019  28.65151126  28.65151233\n",
      "  28.65151338  28.65151443  28.65151546  28.65151648  28.65151749\n",
      "  28.65151849  28.65151948  28.65152045  28.65152142  28.65152236\n",
      "  28.6515233   28.65152422  28.65152513  28.65152603  28.65152691\n",
      "  28.65152777  28.65152862  28.65152946  28.65153028  28.65153108\n",
      "  28.65153187  28.65153265  28.6515334   28.65153414  28.65153486\n",
      "  28.65153557  28.65153626  28.65153693  28.65153758  28.65153822\n",
      "  28.65153883  28.65153943  28.65154001  28.65154057  28.65154112\n",
      "  28.65154164  28.65154214  28.65154263  28.6515431   28.65154354\n",
      "  28.65154397  28.65154437  28.65154476  28.65154513  28.65154547\n",
      "  28.6515458   28.6515461   28.65154638  28.65154665  28.65154689\n",
      "  28.65154711  28.65154731  28.65154749  28.65154765  28.65154779\n",
      "  28.65154791  28.651548    28.65154808  28.65154813  28.65154816]\n"
     ]
    }
   ],
   "source": [
    "import mapphi as mp\n",
    "def los(alpha, beta):\n",
    "    \"\"\"Function to determine the line of sight cut across the beam.\n",
    "    \n",
    "       Args:\n",
    "       -----\n",
    "       alpha       : inclination angle\n",
    "       beta        : impact parameter\n",
    "       \n",
    "       Returns:\n",
    "       --------\n",
    "       xlos        : the line of sight x-coordinates\n",
    "       ylos        : the line of sight y-coordinates\n",
    "       avgthetalos : the line of sight angle in degrees\n",
    "    \"\"\"\n",
    "    \n",
    "    phi = np.arange(-180,180)\n",
    "    xlos, ylos = mp.mapphi(alpha, beta, phi)\n",
    "    thetalos = np.arctan2(ylos, xlos) * (180 / np.pi) - 90.0\n",
    "    for i in np.arange(len(thetalos)):\n",
    "        if thetalos[i] < 0:\n",
    "            thetalos[i] = -thetalos[i]\n",
    "            \n",
    "#   find the average thetalos\n",
    "    avgthetalos = np.average(thetalos)\n",
    "    \n",
    "    return xlos, ylos, avgthetalos\n",
    "################## test ######################\n",
    "if __name__ == \"__main__\":\n",
    "    alpha = 90\n",
    "    beta = 30\n",
    "    xlos, ylos, avgthetalos = los(alpha, beta)\n",
    "    print avgthetalos, xlos"
   ]
  },
  {
   "cell_type": "code",
   "execution_count": 27,
   "metadata": {
    "collapsed": false
   },
   "outputs": [
    {
     "name": "stdout",
     "output_type": "stream",
     "text": [
      "[ 140.11580018  322.47777703  114.20763836]\n",
      "[ 11.64332549  17.66376908  10.51189607]\n"
     ]
    }
   ],
   "source": [
    "from scipy import constants\n",
    "#import emission_height\n",
    "\n",
    "def rho(P, hmin, hmax):\n",
    "    \"\"\"Function to determine the opening angle rho given the rotational period and emission height.\n",
    "       \n",
    "    \n",
    "       Args:\n",
    "       -----\n",
    "       P   : rotational period (seconds)\n",
    "       H   : emission height (km)\n",
    "       \n",
    "       Returns:\n",
    "       --------\n",
    "       rho : the opening angle (degrees)\n",
    "       \n",
    "    \"\"\"\n",
    "    \n",
    "    H = emission_height(P, hmin, hmax, npatch)\n",
    "    print H\n",
    "    rho = np.rad2deg(np.sqrt((9 * np.pi * H) / (2 * (constants.c / 1000) * P)))   \n",
    "    #rho = np.sqrt((9 * np.pi * H) / (2 * constants.c * P))\n",
    "    return rho\n",
    "\n",
    "#################### simple test #####################################\n",
    "if __name__ == \"__main__\":\n",
    "    P = 0.16\n",
    "    hmin = 50\n",
    "    hmax = 950\n",
    "    npatch = 3\n",
    "    opa = rho(P, hmin, hmax)\n",
    "    print opa"
   ]
  },
  {
   "cell_type": "code",
   "execution_count": 5,
   "metadata": {
    "collapsed": false
   },
   "outputs": [
    {
     "name": "stdout",
     "output_type": "stream",
     "text": [
      "[ 11.92039251   9.92821944   6.45043111]\n"
     ]
    }
   ],
   "source": [
    "def patch_width(P, hmin, hmax, npatch):\n",
    "    \"\"\"Function to calculate the width of a patchy emission region \n",
    "       within a pulsar beam at a given height.\n",
    "    \n",
    "       Args:\n",
    "       -----\n",
    "       P             : rotational period (seconds).\n",
    "       hmin          : minimum emission height (in km).\n",
    "       hmax          : maximum emission height (in km).\n",
    "       npatch        : integer number of emission patches.\n",
    "       \n",
    "       Returns:\n",
    "       --------\n",
    "       patchwidths   : the width of the patchy emission region (degrees).\n",
    "11.64332549  17.66376908  10.51189607]\n",
    "    \"\"\"   \n",
    "    \n",
    "    H = emission_height(P, hmin, hmax, npatch)\n",
    "    patchwidths = 2.45 * 0.2 * np.sqrt(H / ( 10 * P)) \n",
    "    \n",
    "    return patchwidths\n",
    "#################### simple test ################################################\n",
    "if __name__ == \"__main__\":\n",
    "    P = 0.16\n",
    "    hmin = 50\n",
    "    hmax = 950\n",
    "    npatch = 3\n",
    "    patchwidths = patch_width(P, hmin, hmax, npatch)\n",
    "    print patchwidths\n",
    "\n"
   ]
  },
  {
   "cell_type": "code",
   "execution_count": 31,
   "metadata": {
    "collapsed": false
   },
   "outputs": [
    {
     "name": "stdout",
     "output_type": "stream",
     "text": [
      "[ 495.53701309  369.68829445  395.35369122]\n",
      "[-10.04339572  -4.97021782  12.74076296] [-19.45713023  18.24783633  14.83885914]\n"
     ]
    }
   ],
   "source": [
    "def patch_center(P, hmin, hmax, npatch):\n",
    "    \"\"\"Function find centres of the patches\n",
    "       \n",
    "       Args:\n",
    "       -----\n",
    "       P      : rotatinal period\n",
    "       hmin   : minimum emission height (in km).\n",
    "       hmax   : maximum emission height (in km).\n",
    "       npatch : number of emission patches\n",
    "       \n",
    "       \n",
    "       Returns:\n",
    "       --------\n",
    "       patch_centerx : the patch center projection on the x-axis \n",
    "       patch_centery : the patch center projection on the y-axis \n",
    "    \"\"\"\n",
    "#   centers of the patches in the rotational plane (x,y coords):\n",
    "#    np.random.seed(0)\n",
    "    patch_center = 2 * np.pi * np.random.random(npatch) \n",
    "    patch_centerx = np.zeros(npatch)\n",
    "    patch_centery = np.zeros(npatch)\n",
    "    \n",
    "    theta = patch_center\n",
    "    opa = rho(P, hmin, hmax)  # opening angle of the beam (rho in degrees)\n",
    "#    print len(opa), opa\n",
    "\n",
    "#   for short periods \n",
    "    if P <= 0.15:\n",
    "        if hmin >= 950 and hmax <= 1000:\n",
    "            for i in np.arange(npatch):\n",
    "                patch_centerx[i] = opa * np.sin(patch_center[i])\n",
    "                patch_centery[i] = opa * np.cos(patch_center[i])\n",
    "                \n",
    "#   for longer periods\n",
    "    if P > 0.15:\n",
    "        if hmin >= 20 and hmax <= 1000:\n",
    "            for i in np.arange(npatch):\n",
    "                patch_centerx[i] = opa[i] * np.sin(patch_center[i])\n",
    "                patch_centery[i] = opa[i] * np.cos(patch_center[i])\n",
    "        \n",
    "    return patch_centerx, patch_centery, theta\n",
    "\n",
    "########################### simple test ###########################\n",
    "if __name__ == \"__main__\":\n",
    "    P = 0.16\n",
    "    hmin = 50\n",
    "    hmax = 950\n",
    "    npatch = 3\n",
    "    cx, cy, theta= patch_center(P, hmin, hmax, npatch)\n",
    "    print cx, cy "
   ]
  },
  {
   "cell_type": "code",
   "execution_count": 51,
   "metadata": {
    "collapsed": false,
    "scrolled": false
   },
   "outputs": [
    {
     "name": "stdout",
     "output_type": "stream",
     "text": [
      "[ 906.33305667  851.07027056  321.59983798  289.09625791  590.32242845]\n",
      "[-23.99265685  28.55262599   9.98512705 -16.71754658  18.93503757] [-17.35689891  -2.86153051 -14.54154526   0.48431945 -14.58157513] 1.57079632679\n",
      "(5, 500, 500)\n"
     ]
    },
    {
     "data": {
      "image/png": "[encoded data removed]",
      "text/plain": [
       "<matplotlib.figure.Figure at 0x7f31054d8e10>"
      ]
     },
     "metadata": {},
     "output_type": "display_data"
    }
   ],
   "source": [
    "import d2r\n",
    "def plotpatch(P, alpha, beta, hmin, hmax, npatch):\n",
    "    \"\"\"Function to plot the patches for a given height range. Using a 2d gaussian\n",
    "    \n",
    "       Args:\n",
    "       -----\n",
    "       P       : rotational period (seconds)\n",
    "       alpha   : inclination angle (degrees)\n",
    "       beta    : impact parameter (degrees)\n",
    "       hmin    : minimum emission height (in km)\n",
    "       hmax    : maximum emission height (in km)\n",
    "       npatch  : number of emission patches\n",
    "       \n",
    "       Returns:\n",
    "       --------\n",
    "       A plot of the patches projected on to observational plane.\n",
    "    \n",
    "    \"\"\"    \n",
    "    \n",
    "#   make a 2D array:\n",
    "    x = np.linspace(-180, 180, num=500, endpoint=True)\n",
    "    y = np.linspace(-180, 180, num=500, endpoint=True)\n",
    "    X,Y = np.meshgrid(x,y)\n",
    "\n",
    "#   patchcenter or mean of the plot from patch center:\n",
    "    cx, cy, theta = patch_center(P, hmin, hmax, npatch)\n",
    "    print cx, cy, theta\n",
    "\n",
    "#   choose random patch widths (wp) depending on how are patches specified:\n",
    "    patchwidths = patch_width(P, hmin, hmax, npatch)\n",
    "    #np.random.shuffle(patchwidths)\n",
    "    if npatch > 1:\n",
    "        np.random.shuffle(patchwidths)\n",
    "        wp = patchwidths[0:npatch]\n",
    "\n",
    "    if npatch == 1:\n",
    "        wp = patchwidths \n",
    "    \n",
    "\n",
    "#   wp == the spread (sigma)\n",
    "#   project the sigmax and sigmay to the line of sight plane:\n",
    "    #xlos, ylos, thetalos = los(alpha, beta)\n",
    "    #thet = 5\n",
    "    #theta = 2 * np.pi * np.random.random(npatch)\n",
    "    sigmax = wp * d2r.sinD(theta)\n",
    "    sigmay = wp * d2r.cosD(theta)\n",
    "    \n",
    "    \n",
    "#   2D gaussian:\n",
    "    peak = 5 # trial peak \n",
    "    a = ((np.cos(theta) ** 2) / (2 * sigmax ** 2)) + ((np.sin(theta) ** 2) / (2 * sigmay ** 2))\n",
    "    b = (-(np.sin(2 * theta)) / (4 * sigmax ** 2)) + ((np.sin(2 * theta)) / (4 * sigmay ** 2))\n",
    "    c = ((np.sin(theta) ** 2) / (2 * sigmax ** 2)) + ((np.cos(theta) ** 2) / (2 * sigmay ** 2))\n",
    "    \n",
    "    Z = []\n",
    "    if npatch > 1:\n",
    "        for i in np.arange(len(cx)):\n",
    "            #Z = peak * np.exp(-(a[i] * (X - cx[i]) ** 2 - 2 * b[i] * (X - cx[i]) * (Y - cy[i]) + c[i] * (Y - cy[i]) ** 2))\n",
    "            Z.append(peak * np.exp(-(a[i] * (X - cx[i]) ** 2 - 2 * b[i] * (X - cx[i]) * (Y - cy[i]) + c[i] * (Y - cy[i]) ** 2)))\n",
    "\n",
    "    if npatch == 1:\n",
    "        Z = peak * np.exp(-(a * (X - cx) ** 2 - 2 * b * (X - cx) * (Y - cy) + c * (Y - cy) ** 2)) \n",
    "    \n",
    "#    if npatch == 0:\n",
    "#        Z = peak * np.exp(-(a * X ** 2 - 2 * b * X * Y + c * Y ** 2)) \n",
    "\n",
    "\n",
    "    #for i in np.arange(len(Z)):\n",
    "    print np.array(Z).shape\n",
    "    for i in np.arange(1):\n",
    "        fig1 = plt.figure() # reason for multiple plots    \n",
    "        plt.contour(X, Y, np.sum(np.array(Z), axis=0))\n",
    "        plt.xlim(-90, 90)\n",
    "        plt.ylim(-90, 90)\n",
    "        plt.grid()\n",
    "        #plt.hold(True)\n",
    "        #fig2 = plt.figure()\n",
    "        #plt.grid()\n",
    "        #plt.imshow(Z[i])  \n",
    "    \n",
    "    \n",
    "############################ simple test ##########################\n",
    "if __name__ == \"__main__\":\n",
    "    P = 0.16\n",
    "    hmin = 50\n",
    "    hmax = 950\n",
    "    npatch = 5\n",
    "    alpha = 10\n",
    "    beta = 1\n",
    "    plotpatch(P, alpha, beta, hmin, hmax, npatch)"
   ]
  },
  {
   "cell_type": "code",
   "execution_count": 50,
   "metadata": {
    "collapsed": false
   },
   "outputs": [
    {
     "data": {
      "text/plain": [
       "2.0293992862490144"
      ]
     },
     "execution_count": 50,
     "metadata": {},
     "output_type": "execute_result"
    }
   ],
   "source": [
    "2 * np.pi * np.random.random()"
   ]
  },
  {
   "cell_type": "code",
   "execution_count": null,
   "metadata": {
    "collapsed": true
   },
   "outputs": [],
   "source": []
  }
 ],
 "metadata": {
  "kernelspec": {
   "display_name": "Python 2",
   "language": "python",
   "name": "python2"
  },
  "language_info": {
   "codemirror_mode": {
    "name": "ipython",
    "version": 2
   },
   "file_extension": ".py",
   "mimetype": "text/x-python",
   "name": "python",
   "nbconvert_exporter": "python",
   "pygments_lexer": "ipython2",
   "version": "2.7.6"
  }
 },
 "nbformat": 4,
 "nbformat_minor": 0
}
