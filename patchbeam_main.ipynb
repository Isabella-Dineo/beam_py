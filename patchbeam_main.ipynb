{
 "cells": [
  {
   "cell_type": "code",
   "execution_count": 88,
   "metadata": {
    "collapsed": true
   },
   "outputs": [],
   "source": [
    "import numpy as np\n",
    "import scipy as sp\n",
    "from datetime import datetime\n",
    "import time\n",
    "import matplotlib.pyplot as plt \n",
    "import matplotlib.cm as cm\n",
    "%matplotlib inline"
   ]
  },
  {
   "cell_type": "code",
   "execution_count": 89,
   "metadata": {
    "collapsed": false
   },
   "outputs": [
    {
     "data": {
      "text/plain": [
       "'Mon Jun  6 11:37:07 2016'"
      ]
     },
     "execution_count": 89,
     "metadata": {},
     "output_type": "execute_result"
    }
   ],
   "source": [
    "time.ctime(time.time())\n"
   ]
  },
  {
   "cell_type": "code",
   "execution_count": null,
   "metadata": {
    "collapsed": true
   },
   "outputs": [],
   "source": []
  },
  {
   "cell_type": "code",
   "execution_count": 90,
   "metadata": {
    "collapsed": false
   },
   "outputs": [],
   "source": [
    "def correct(x):\n",
    "    \"\"\"Function to correct for round-off errors to 7 \n",
    "       decimal places.\n",
    "       \n",
    "       Args:\n",
    "       -----\n",
    "       x    : an ndarray.\n",
    "       \n",
    "       Returns:\n",
    "       --------\n",
    "       y    : an ndarray correction of x.\n",
    "    \"\"\"\n",
    "#   Tolarance:\n",
    "    tol = 1.0e-07\n",
    "    sign = np.sign(x)\n",
    "    y = np.abs(x)\n",
    "    \n",
    "#   correct for precision:\n",
    "    for i in np.arange(np.size(x)):\n",
    "        if np.abs(y[i] - 1.0) < tol:\n",
    "            y[i] = 1.0\n",
    "        elif np.abs(y[i] - 0.0) < tol:\n",
    "            y[i] = 0.0\n",
    "\n",
    "    return y * sign\n",
    "######################## simple test #################\n",
    "#if __name__ == \"__main__\":\n",
    "#    x = [1e-8, 1e-5]\n",
    "#    print correct(x)"
   ]
  },
  {
   "cell_type": "code",
   "execution_count": 91,
   "metadata": {
    "collapsed": false,
    "scrolled": true
   },
   "outputs": [],
   "source": [
    "def mapphi(alpha, beta, phi):\n",
    "    \"\"\"Function to map the rotational axis:\n",
    "       \n",
    "       Args:\n",
    "       -----\n",
    "       alpha       : magnetic inclination angle w.r.t the rotatinal axis (degrees)\n",
    "       beta        : line of sight closest approach to the magnetic axis (degrees)\n",
    "       \n",
    "       Returns:\n",
    "       --------\n",
    "       xlos, ylos  : The coordinates of the rotatinal plane; both the size of phi.\n",
    "       \n",
    "    \"\"\"\n",
    "    cosR = np.cos(np.deg2rad(alpha+beta)) * np.cos(np.deg2rad(alpha))\n",
    "    cosR += np.sin(np.deg2rad(alpha+beta)) * np.sin(np.deg2rad(alpha)) * np.cos(np.deg2rad(phi))\n",
    "\n",
    "    R = np.arccos(correct(cosR))\n",
    "\n",
    "    # problems with precision for 180 degrees\n",
    "    cosgamma = np.zeros_like(R)\n",
    "\n",
    "    for i in np.arange(len(R)):\n",
    "        if int(R[i]*100.0) == 180.0:\n",
    "            R[i] = int(R[i]*100.0)/100.0\n",
    "        if R[i] != 0.0 and R[i] != 180.0 and alpha > 0.0:\n",
    "            cosgamma[i] = (np.cos(np.deg2rad(alpha+beta)) - np.cos(np.deg2rad(alpha)) * cosR[i]) \\\n",
    "                  /(np.sin(np.deg2rad(alpha)) * np.sin(R[i]))\n",
    "        else:\n",
    "             cosgamma[i] = 0.0\n",
    "\n",
    "    cosgamma_corr = correct(cosgamma)\n",
    "    gamma = np.arccos(cosgamma_corr)\n",
    "    xp = R * np.sin(gamma)\n",
    "    \n",
    "    for i in np.arange(len(phi)):\n",
    "        if phi[i] > 0.0:\n",
    "            xp[i] = -xp[i]\n",
    "\n",
    "    yp = -R * np.cos(gamma)\n",
    " \n",
    "    return np.rad2deg(xp), np.rad2deg(yp)\n",
    "#############################################\n",
    "if __name__ == \"__main__\":\n",
    "    phi= np.linspace(-180, 180, num=1e3, endpoint=True)\n",
    "    alpha = 45\n",
    "    beta = 5\n",
    "    xlos, ylos =  mapphi(alpha, beta, phi)\n"
   ]
  },
  {
   "cell_type": "code",
   "execution_count": 92,
   "metadata": {
    "collapsed": false
   },
   "outputs": [
    {
     "data": {
      "image/png": "[encoded data removed]",
      "text/plain": [
       "<matplotlib.figure.Figure at 0x7f76e6117510>"
      ]
     },
     "metadata": {},
     "output_type": "display_data"
    }
   ],
   "source": [
    "def los(alpha, beta):\n",
    "    \"\"\"Function to determine the line of sight cut across the beam.\n",
    "    \n",
    "       Args:\n",
    "       -----\n",
    "       alpha       : inclination angle\n",
    "       beta        : impact parameter\n",
    "       \n",
    "       Returns:\n",
    "       --------\n",
    "       xlos        : the line of sight x-coordinates\n",
    "       ylos        : the line of sight y-coordinates\n",
    "       thetalos : the line of sight angle in degrees\n",
    "    \"\"\"\n",
    "\n",
    "#   rotational phase:\n",
    "    phi = np.linspace(-180, 180, num=1e3, endpoint=True)\n",
    "    \n",
    "#   line of sight x,y plane:\n",
    "    xlos, ylos = mapphi(alpha, beta, phi)\n",
    "    thetalos = np.arctan2(ylos, xlos) * (180 / np.pi) - 90.0\n",
    "    for i in np.arange(len(thetalos)):\n",
    "        if thetalos[i] < 0:\n",
    "            thetalos[i] = -thetalos[i]       \n",
    "            \n",
    "    return xlos, ylos, thetalos\n",
    "################## test ######################\n",
    "if __name__ == \"__main__\":\n",
    "    xlos, ylos, thetalos = los(alpha, beta)\n",
    "    plt.plot(xlos, ylos, 'b--')"
   ]
  },
  {
   "cell_type": "code",
   "execution_count": 93,
   "metadata": {
    "collapsed": false
   },
   "outputs": [
    {
     "name": "stdout",
     "output_type": "stream",
     "text": [
      "heigths =  [ 930.71791709  823.00138862] km\n"
     ]
    }
   ],
   "source": [
    "def emission_height(P, freq, ncomp, npatch, iseed, hmin, hmax):#, spec):\n",
    "    \"\"\"Function to determine emission heights given hmin and hmax. Allowed emision heights for young \n",
    "       pulsars range between [950, 1000] and between [20, 1000] for old pulsars.\n",
    "    \n",
    "       Args:\n",
    "       -----\n",
    "       P      : rotational period (in seconds).\n",
    "       freq   : frequency (in GHz).\n",
    "       hmin   : minimum emission height (in km).\n",
    "       hmax   : maximum emission height (in km).\n",
    "       ncomp  : integer number of component.\n",
    "       iseed  : integer seed for a pseudo-random number generator.\n",
    "       spec   : spectral index.\n",
    "       \n",
    "       Returns:\n",
    "       --------\n",
    "       H      : emission heights (in km).\n",
    "    \"\"\"\n",
    "\n",
    "    #np.random.seed(datetime.now())\n",
    "    #np.random.seed(float(time.time()))\n",
    "    np.random.seed(iseed)\n",
    "\n",
    "    num_H = ncomp # number of discrete emission height\n",
    "    \n",
    "#   If height range is not specified:\n",
    "    if hmin == None and hmax == None:\n",
    "        \n",
    "        # emission height for a short period pulsar: only one emission height \n",
    "        if P <= 0.15:\n",
    "            hmin = 950 \n",
    "            hmax = 1000\n",
    "            H = np.random.uniform(hmin, hmax, size=1)\n",
    "\n",
    "        elif P > 0.15:\n",
    "            hmin = 20 \n",
    "            hmax = 1000\n",
    "            H = np.random.uniform(hmin, hmax, size=num_H) \n",
    "                \n",
    "#   For specified height range:\n",
    "    else:\n",
    "        if P < 0.15: # only one emission region\n",
    "            H = np.random.uniform(hmin, hmax, size=1)\n",
    "            H = hmin\n",
    "        if P > 0.15: \n",
    "            H = np.random.uniform(hmin, hmax, size=num_H)\n",
    "            #H = [hmin, hmax]\n",
    "            #H = np.array(H)\n",
    "            \n",
    "#   Frequency dependence:\n",
    "    gamma = 0.86    # with rho \\prop mu^-0.43 for (error +/- 0.06 ref: fig.12 Hassall et al. 2012.)\n",
    "    H_mu = 0.6*H * freq**(-gamma) + 0.4*H # frequency dependence\n",
    "    #H_mu = H * freq**(-gamma) + H0\n",
    "    #print \"H_mu\",H_mu\n",
    "\n",
    "            \n",
    "    return H\n",
    "\n",
    "########################### simple test #############################\n",
    "if __name__ == \"__main__\":\n",
    "    P = 0.2\n",
    "    freq = 0.5\n",
    "    hmin = 800\n",
    "    hmax = 1000\n",
    "    ncomp = 2\n",
    "    npatch = 10\n",
    "    iseed = 1000\n",
    "    heights = emission_height(P, freq, ncomp, npatch, iseed, hmin, hmax)#, spec=None)\n",
    "    #heights = emission_height(P, ncomp, iseed, hmin, hmax)\n",
    "    print \"heigths = \",heights,\"km\"  "
   ]
  },
  {
   "cell_type": "code",
   "execution_count": 94,
   "metadata": {
    "collapsed": false
   },
   "outputs": [
    {
     "name": "stdout",
     "output_type": "stream",
     "text": [
      "opening angle = [ 26.84030914  25.23938453] degrees\n"
     ]
    }
   ],
   "source": [
    "from scipy import constants\n",
    "#import emission_height\n",
    "\n",
    "def rho(P, heights):\n",
    "    \"\"\"Function to determine the opening angle rho given the rotational period and emission height.\n",
    "       \n",
    "    \n",
    "       Args:\n",
    "       -----\n",
    "       P         : rotational period (seconds)\n",
    "       heights   : emission heights (km)\n",
    "       \n",
    "       Returns:\n",
    "       --------\n",
    "       rho       : the opening angle (degrees)\n",
    "       \n",
    "    \"\"\"\n",
    "\n",
    "#   opening angle (eqn 3.29, Lorimer and Kramer 2005):\n",
    "    rho = np.rad2deg(np.sqrt((9 * np.pi * heights) / (2 * (constants.c / 1e3) * P))) \n",
    "    \n",
    "    return rho\n",
    "\n",
    "#################### simple test #####################################\n",
    "if __name__ == \"__main__\":\n",
    "    opa = rho(P, heights)\n",
    "    print \"opening angle =\",opa,\"degrees\""
   ]
  },
  {
   "cell_type": "code",
   "execution_count": 95,
   "metadata": {
    "collapsed": false
   },
   "outputs": [
    {
     "name": "stdout",
     "output_type": "stream",
     "text": [
      "patch width = [ 10.5703683    9.93988515] degrees\n"
     ]
    }
   ],
   "source": [
    "def patch_width(P, heights):\n",
    "    \"\"\"Function to calculate the width of a patchy emission region \n",
    "       within a pulsar beam at a given height.\n",
    "    \n",
    "       Args:\n",
    "       -----\n",
    "       P             : rotational period (seconds).\n",
    "       heights       : emission heights (km).\n",
    "      \n",
    "       \n",
    "       Returns:\n",
    "       --------\n",
    "       patchwidths   : the width of the patchy emission region (degrees).\n",
    "       \n",
    "    \"\"\"   \n",
    "    \n",
    "#   width of the patch (eqn 3, KJ2007):\n",
    "    patchwidths = 2.45 * 0.2 * np.sqrt(heights / ( 10 * P))\n",
    "\n",
    "#   valid at 1 GHz, but can be applied at LOFAR frequencies, maintaining\n",
    "#   the same dependence, if the impact angle β ≪ ρcore; sin α\n",
    "#   should be ignored for orthogonal rotators (α ∼ 90◦). (M. Pilia et. al, 2015)\n",
    "    \n",
    "    return patchwidths\n",
    "#################### simple test ################################################\n",
    "if __name__ == \"__main__\":\n",
    "    patchwidths = patch_width(P, heights)\n",
    "    print \"patch width =\",patchwidths,\"degrees\"\n"
   ]
  },
  {
   "cell_type": "code",
   "execution_count": 96,
   "metadata": {
    "collapsed": false
   },
   "outputs": [
    {
     "name": "stdout",
     "output_type": "stream",
     "text": [
      "acive patches:  10\n",
      "height 0:\n",
      "[-8.2487303436837696, 2.9970258512039147, -19.277720151771085, 26.092107681686286, 6.7907599631358861, 16.156639966130392, 26.689708185907065, -22.503372730832279, 25.870344395591957, -26.810270518850647] \n",
      "[25.541351616695643, -26.672458280737938, 18.675430395053535, 6.2931797541289116, 25.967051696593536, -21.432806155408784, 2.8393083033752791, 14.628752866451896, 7.1503479316711775, -1.2694839095231953] \n",
      "\n",
      "height 1:\n",
      "[15.823508907142482, 22.987341469308536, -25.218592707471615, 10.686402729147947, -16.650954746034074, -7.3995067298473955, -10.582058923612758, 12.789020053606709, 4.570661544464989, -2.8440948880093497] \n",
      "[-19.663242292122813, 10.421548049428782, -1.0242623823045647, 22.865417736914495, 18.967662945620635, 24.130350841379986, 22.913894485886335, -21.759308298785374, 24.822078571688824, 25.078629464967651] \n",
      "\n"
     ]
    }
   ],
   "source": [
    "def patch_center(P, heights, npatch):\n",
    "    \"\"\"Function find centres of the patches\n",
    "       \n",
    "       Args:\n",
    "       -----\n",
    "       P       : rotatinal period\n",
    "       heights : emission heights (in km).       \n",
    "       \n",
    "       Returns:\n",
    "       --------\n",
    "       centerx : the patch center projection on the x-axis \n",
    "       centery : the patch center projection on the y-axis \n",
    "    \"\"\"\n",
    "    \n",
    "#   opening angle:    \n",
    "    opa = rho(P, heights) \n",
    "    \n",
    "#   initialize the array:\n",
    "    centerx = []\n",
    "    centery = []\n",
    "    #np.random.seed(datetime.now())\n",
    "    \n",
    "    for comp in opa: #for each emission height (comp!)\n",
    "#       find the center of the patch\n",
    "        tempCenterX = []\n",
    "        tempCenterY = []\n",
    "        theta = 2 * np.pi * np.random.random(npatch)\n",
    "\n",
    "        for i in np.arange(npatch):\n",
    "            tempCenterX.append(comp * np.sin(theta[i]))\n",
    "            tempCenterY.append(comp * np.cos(theta[i]))\n",
    "                \n",
    "\n",
    "        centerx.append(tempCenterX)\n",
    "        centery.append(tempCenterY)\n",
    "        \n",
    "    print \"acive patches: \" ,npatch\n",
    "        \n",
    "    return centerx, centery \n",
    "\n",
    "########################### simple test ###########################\n",
    "if __name__ == \"__main__\":\n",
    "    cx, cy = patch_center(P, heights, npatch)\n",
    "    for i in range(len(cx)):\n",
    "        print 'height %i:\\n'%i, cx[i], '\\n', cy[i], '\\n'#, rho[i]"
   ]
  },
  {
   "cell_type": "code",
   "execution_count": 97,
   "metadata": {
    "collapsed": false
   },
   "outputs": [
    {
     "name": "stdout",
     "output_type": "stream",
     "text": [
      "[-19.36098034 -17.19734217] \n",
      "[-3.40586748 -2.66329856]\n"
     ]
    }
   ],
   "source": [
    "def aberration(heights):\n",
    "    \"\"\"Function to determine the abberation offest due to the curvature of the magnetic field lines.\n",
    "    \n",
    "       Args:\n",
    "       -----\n",
    "       heights     : emission heights \n",
    "\n",
    "       Returns:\n",
    "       --------\n",
    "       ab_ofsetx   : ofset of the projected x coordinates\n",
    "       ab_ofsety   : ofset of the projected y coordinates\n",
    "       \n",
    "    \"\"\"\n",
    "    \n",
    "#   aberration time scale in seconds:\n",
    "    ab_time = heights / (constants.c / 1e3)\n",
    "    ab_deg = (ab_time / P) * 360\n",
    "    ab_ofsetx, ab_ofsety = mapphi(alpha, 0.0, 5*ab_deg)\n",
    "            \n",
    "    return ab_ofsetx, ab_ofsety\n",
    "\n",
    "########################################## \n",
    "if __name__ == \"__main__\":\n",
    "    ab_ofsetx, ab_ofsety = aberration(heights)\n",
    "    print ab_ofsetx, '\\n', ab_ofsety\n",
    "    "
   ]
  },
  {
   "cell_type": "code",
   "execution_count": 98,
   "metadata": {
    "collapsed": false
   },
   "outputs": [],
   "source": [
    "#def sc_time(freq, frac, P):\n",
    "#    \"\"\"Function to determine the scattering time scale.\n",
    "#       It assumes a canonical period (1 s) and a maximum scattering time as fraction/function of this period.\n",
    "       \n",
    "#       Args:\n",
    "#        -----\n",
    "#        freq   :   frequency (in GHz) (array)\n",
    "#        frac   :   fraction that gives the maximum scattering.\n",
    "#        P      :   period (seconds)\n",
    "#    \n",
    "#       Return:\n",
    "#       -------\n",
    "#       tau     :   the frequency dependent time scale in sec (array).\n",
    "       \n",
    "#    \"\"\"\n",
    "    #freq = np.asanyarray(freq)\n",
    "    #low_freq = min(freq)\n",
    "    #tau_max = frac * P # largest scattering time\n",
    "    \n",
    "    # scattering time scales as freq^-4 with kappa the proportionality constat.\n",
    "    # determine the proportinality constant kappa (tau = kappa * freq^-4):\n",
    "    # the lowest frequency will correspond to the highest scattering time:\n",
    "    #kappa = tau_max / (low_freq ** (-4)) \n",
    "    #kappa = tau_max / (freq ** (-4)) \n",
    "    \n",
    "    #Now find the scattering time scale for each frequency:\n",
    "    #tau = kappa * freq ** (-4)\n",
    "    \n",
    "    #return tau\n",
    "#######################################3\n",
    "#if __name__ == \"__main__\":\n",
    "#    frac = 0.3\n",
    "#    tau = sc_time(P, freq, frac)\n",
    "#    print tau\n",
    "\n"
   ]
  },
  {
   "cell_type": "code",
   "execution_count": 99,
   "metadata": {
    "collapsed": false
   },
   "outputs": [
    {
     "name": "stdout",
     "output_type": "stream",
     "text": [
      "33.3158396746\n"
     ]
    }
   ],
   "source": [
    "def sc_time(freq, dm):\n",
    "    \"\"\"Function to determine the scattering time scale.\n",
    "\n",
    "        Args:\n",
    "        -----\n",
    "        freq   :   frequency (in GHz) (array)\n",
    "        dm     :   dispersion measure (pc cm^-3).\n",
    "    \n",
    "       Return:\n",
    "       -------\n",
    "       tau     :   the frequency dependent time scale in sec (array).\n",
    "\n",
    "    \"\"\"\n",
    "#   tau = scattering time scale as in Bhat et al. (2004)     \n",
    "    log_tau = -6.46 + 0.154 * np.log10(dm) + 1.07 * (np.log10(dm))**2 - 3.86 * np.log10(freq)*np.random.rand()\n",
    "    tau = 10**log_tau * 1e3 #(tau in seconds)\n",
    "\n",
    "    return tau\n",
    "##################################################################################################\n",
    "if __name__ == \"__main__\":\n",
    "    print sc_time(freq, dm=100)"
   ]
  },
  {
   "cell_type": "code",
   "execution_count": 129,
   "metadata": {
    "collapsed": false,
    "scrolled": true
   },
   "outputs": [],
   "source": [
    "def broadening(P, tau):\n",
    "    \"\"\"Function to determine the broadening capacity given the broadening time scale.\n",
    "    \n",
    "       Args:\n",
    "       -----\n",
    "       tau        : scattering time scale (in seconds)\n",
    "       P          : period (in seconds)\n",
    "       \n",
    "       Return:\n",
    "       -------\n",
    "       broad_func : broadening function (1/sec)\n",
    "       \n",
    "    \"\"\"\n",
    "    #print tau\n",
    "    #broad_func = np.zeros_like(tau)\n",
    "    #for i in np.arange(len(tau)):\n",
    "    #    broad_func +=  (1/tau[i]) * np.exp(- (P / tau[i]))\n",
    "    \n",
    "    t = np.linspace(0, 5*P, num=1e3, endpoint=True)\n",
    "    broad_func = 1/tau * np.exp(- (t/ tau))\n",
    "    \n",
    "    return broad_func\n",
    "\n",
    "################# simple test ##############################\n",
    "if __name__ == \"__main__\":\n",
    "    bf = broadening(P, tau)\n",
    "#    plt.plot(tau, bf)\n",
    "#print bf"
   ]
  },
  {
   "cell_type": "code",
   "execution_count": 138,
   "metadata": {
    "collapsed": false,
    "scrolled": true
   },
   "outputs": [
    {
     "name": "stdout",
     "output_type": "stream",
     "text": [
      "0.117869898857 0.2\n",
      "1000 1000\n"
     ]
    },
    {
     "name": "stderr",
     "output_type": "stream",
     "text": [
      "/usr/local/lib/python2.7/dist-packages/ipykernel/__main__.py:21: DeprecationWarning: using a non-integer number instead of an integer will result in an error in the future\n"
     ]
    },
    {
     "data": {
      "image/png": "[encoded data removed]",
      "text/plain": [
       "<matplotlib.figure.Figure at 0x7f76e646d2d0>"
      ]
     },
     "metadata": {},
     "output_type": "display_data"
    }
   ],
   "source": [
    "def scatter(prof, bf):\n",
    "    \"\"\"\n",
    "    Function to scatter the profile; convolves the profile with the broadening function.\n",
    "    \n",
    "    Args:\n",
    "    -----\n",
    "    prof   : an array of the profile\n",
    "    bf     : broadening function (an array)\n",
    "\n",
    "    Returns:\n",
    "    --------\n",
    "    scatter: convolution of the profile.\n",
    "\n",
    "    \"\"\"\n",
    "    \n",
    "    conv = np.convolve(prof, bf)\n",
    "    profint = np.sum(prof)\n",
    "    convint = np.sum(conv)\n",
    "    sc_prof = conv * (profint/convint)\n",
    "    \n",
    "    return sc_prof[0:1e3]\n",
    "##########################################\n",
    "if __name__ == \"__main__\":\n",
    "    tau = sc_time(freq=0.8, dm=25)\n",
    "    dm = 10\n",
    "    print tau, P\n",
    "    bf = broadening(P, tau)\n",
    "    conv = scatter(prof, bf)\n",
    "    x = np.linspace(-180, 180, num=len(conv))\n",
    "    print len(x), len(conv)\n",
    "    plt.plot(x, conv)"
   ]
  },
  {
   "cell_type": "code",
   "execution_count": 139,
   "metadata": {
    "collapsed": false
   },
   "outputs": [
    {
     "name": "stdout",
     "output_type": "stream",
     "text": [
      "Dm =100, freq=0.5, time=1.6595232\n"
     ]
    }
   ],
   "source": [
    "def dispersion(freq, dm):\n",
    "    \"\"\"Function to determine the dispersion time scale given frequency and dispersion measure.\n",
    "    \n",
    "       Args:\n",
    "       -----\n",
    "       freq    : an array of frequency in (GHz)\n",
    "       dm      : an array dispersion measure (pc cm^-3)\n",
    "       \n",
    "       Returns:\n",
    "       --------\n",
    "       dtime   : dispersion time scale (s)\n",
    "       \n",
    "    \"\"\"\n",
    "    D = 4.148808 * 1e3 # Dispersion constant in MHz^2 pc^-1 cm^-3 (Assumes the NE2001 model)\n",
    "    dtime = D * (dm / (freq * 1e3)**2)\n",
    "    \n",
    "    return dtime\n",
    "\n",
    "#################### simple test #########################################################\n",
    "if __name__ == \"__main__\":\n",
    "    print \"Dm =\" + str(100) + \", freq=\" + str(freq) + \", time=\" + str(dispersion(freq, 100))\n",
    "    #print \"Dm =\" + str(100) + \", freq=\" + str(0.2) + \", time=\" + str(dispersion(0.2, 100))\n",
    "    #print \"Dm =\" + str(100) + \", freq=\" + str(0.05) + \", time=\" + str(dispersion(0.05, 100))"
   ]
  },
  {
   "cell_type": "code",
   "execution_count": 140,
   "metadata": {
    "collapsed": false,
    "scrolled": false
   },
   "outputs": [
    {
     "name": "stderr",
     "output_type": "stream",
     "text": [
      "/usr/local/lib/python2.7/dist-packages/ipykernel/__main__.py:21: DeprecationWarning: using a non-integer number instead of an integer will result in an error in the future\n"
     ]
    },
    {
     "name": "stdout",
     "output_type": "stream",
     "text": [
      "Len of prof: 1000\n",
      "1000\n",
      "Len sc prof: 1000\n",
      "0.0133191435847 0.2\n"
     ]
    },
    {
     "data": {
      "image/png": "[encoded data removed]",
      "text/plain": [
       "<matplotlib.figure.Figure at 0x7f76e7ce4450>"
      ]
     },
     "metadata": {},
     "output_type": "display_data"
    },
    {
     "data": {
      "image/png": "[encoded data removed]",
      "text/plain": [
       "<matplotlib.figure.Figure at 0x7f76eb3caa10>"
      ]
     },
     "metadata": {},
     "output_type": "display_data"
    }
   ],
   "source": [
    "def plotpatch(P, alpha, beta, heights, centerx, centery, snr, do_ab):\n",
    "    \"\"\"Function to plot the patches for a given height range. Using a 2d gaussian\n",
    "    \n",
    "       Args:\n",
    "       -----\n",
    "       P       : rotational period (seconds)\n",
    "       alpha   : inclination angle (degrees)\n",
    "       beta    : impact parameter (degrees)\n",
    "       heights : emission heights (in km)\n",
    "       centerx : the patch center projection on the x-axis \n",
    "       centery : the patch center projection on the y-axis\n",
    "       snr     : signal to noise ratio\n",
    "       \n",
    "       Returns:\n",
    "       --------\n",
    "       A plot of the patches projected on to observational plane.\n",
    "    \n",
    "    \"\"\"    \n",
    "    \n",
    "#   initialize parameters:\n",
    "    xmin = -180.\n",
    "    xmax = 180.\n",
    "    xnum = 1e3\n",
    "    ymin = -180.\n",
    "    ymax = 180.\n",
    "    ynum = 1e3\n",
    "    dx = (xmax - xmin)/xnum\n",
    "    dy = (ymax - ymin)/ynum\n",
    "    x = np.linspace(xmin, xmax, num=xnum, endpoint=True)\n",
    "    y = np.linspace(ymin, ymax, num=ynum, endpoint=True)\n",
    "    X,Y = np.meshgrid(x,y)\n",
    "    gauss = np.zeros(len(x))\n",
    "    Z = np.zeros_like(X)\n",
    "    prof_los = np.zeros_like(gauss)\n",
    "\n",
    "#   find the width of the patches:\n",
    "    patchwidths = patch_width(P, heights)\n",
    "      \n",
    "    \n",
    "#   An arbitrary peak of the profile:\n",
    "    peak = 10. \n",
    "    \n",
    "#   Get the line of sight and the aberration ofset:\n",
    "    xlos, ylos, thetalos = los(alpha, beta)\n",
    "    ab_ofsetx, ab_ofsety = aberration(heights)\n",
    "    \n",
    "    for cid, comp in enumerate(heights):\n",
    "#       widths for circular patches: \n",
    "        #print cid, comp\n",
    "        sigmax = patchwidths[cid]\n",
    "        sigmay = patchwidths[cid]\n",
    "    \n",
    "#       center of the patch:\n",
    "        patchCenterX = centerx[cid]\n",
    "        patchCenterY = centery[cid]\n",
    "        \n",
    "#       2D patch:\n",
    "        # with aberration:\n",
    "        for pc in zip(patchCenterX, patchCenterY):\n",
    "            #without aberration:\n",
    "            if do_ab == None: \n",
    "                Z += peak * np.exp(-((X - pc[0] )**2 / (2 * sigmax**2) + (Y - pc[1])**2 / (2 * sigmay**2)))\n",
    "        \n",
    "            #with aberration:\n",
    "            else:\n",
    "                Z += peak * np.exp(-((X - pc[0] - ab_ofsetx[cid] )**2 / (2 * sigmax**2) + (Y - pc[1] - ab_ofsety[cid])**2 / (2 * sigmay**2)))\n",
    "#   \n",
    "                \n",
    "#   1D profile from 2D patch, closest to the line of sight (select nearest neighbors):\n",
    "    \n",
    "    ZxIdx = np.array(xlos/dx, dtype=int) - int(xnum/2) # x index\n",
    "    ZyIdx = np.array(ylos/dy, dtype=int) - int(ynum/2) # y index\n",
    "    prof = Z[ZxIdx, ZyIdx]\n",
    "    #print prof\n",
    "    #print np.shape(prof)\n",
    "    \n",
    "\n",
    "#   Apply scattering:\n",
    "    #frac = 0.5 # Assuming maximum half of the scattering time as fraction/function of the full period \n",
    "    # 1. Find the scattering time:\n",
    "    tau = sc_time(freq, dm)\n",
    "    \n",
    "    # 2. Find the function that broadens the profile:\n",
    "    bf = broadening(tau, P)\n",
    "    \n",
    "    # 3. Scatter the profile:\n",
    "    #sc_prof = []\n",
    "    #for i in np.arange(len(prof)):\n",
    "    #    sc_prof.append(scatter(prof[i], bf[i]))\n",
    "    sc_prof = scatter(prof, bf)\n",
    "    #print len(sc_prof)\n",
    "    \n",
    "    #print len(sc_prof), len(bf), len(tau)\n",
    "        \n",
    "#   add noise: a normal distibution with zero mean, and std dev = 1\n",
    "    if snr == None:\n",
    "        prof = prof # profile without noise\n",
    "        \n",
    "    else:\n",
    "        sigma_s = sigmax #std dev of the profile\n",
    "        sigma_n = sigmax/np.sqrt(snr)#std dev of the noise\n",
    "        mean_n = (sigmax**2) * np.sqrt(snr)     \n",
    "        noise = np.random.normal(mean_n, sigma_n, 1e3)\n",
    "        prof = prof + noise\n",
    "    \n",
    "#   profile plot:\n",
    "\n",
    "    plt.figure(figsize=(10,5))\n",
    "    plt.subplot(1, 2, 2)\n",
    "    plt.title(\"1d profile from LOS\")\n",
    "    plt.xlabel(\"phase (degrees)\")\n",
    "    plt.ylabel(\"intensity\")\n",
    "    plt.xlim(xmin, xmax)\n",
    "    plt.tight_layout()\n",
    "    time = np.linspace(0, P, num=1e3, endpoint=True)\n",
    "    plt.plot(time, prof)\n",
    "    print \"Len of prof: %d\" %len(prof)\n",
    "    print len(time)\n",
    "    print \"Len sc prof: %d\" %len(sc_prof)\n",
    "    #plt.plot(x, sc_prof)\n",
    "\n",
    "    \n",
    "#   patchy emission region:\n",
    "\n",
    "    plt.subplot(1, 2, 1)\n",
    "    plt.plot(xlos, ylos, '--r')\n",
    "    plt.imshow(Z, extent=[-np.amax(Z),np.amax(Z),-np.amax(Z),np.amax(Z)])#, cmap=cm.gray)\n",
    "    plt.xlabel('X (degrees)')\n",
    "    plt.ylabel('Y (degress)')\n",
    "    plt.colorbar()\n",
    "\n",
    "#   scattered profile\n",
    "    plt.figure()\n",
    "    x_sc = np.linspace(-180, 180, num=len(sc_prof), endpoint=True)\n",
    "    plt.plot(x_sc, sc_prof)\n",
    "    plt.title(\"scattered profile\")\n",
    "    plt.xlabel(\"phase (degrees)\")\n",
    "    plt.ylabel(\"intensity\")\n",
    "    print tau, P\n",
    "               \n",
    "    return prof\n",
    "############################ simple test ##########################\n",
    "if __name__ == \"__main__\":\n",
    "    snr = 1e3\n",
    "    prof = plotpatch(P, alpha, beta, heights, cx, cy, snr=None, do_ab=None)"
   ]
  },
  {
   "cell_type": "code",
   "execution_count": null,
   "metadata": {
    "collapsed": true
   },
   "outputs": [],
   "source": []
  },
  {
   "cell_type": "code",
   "execution_count": null,
   "metadata": {
    "collapsed": true
   },
   "outputs": [],
   "source": []
  }
 ],
 "metadata": {
  "kernelspec": {
   "display_name": "Python 2",
   "language": "python",
   "name": "python2"
  },
  "language_info": {
   "codemirror_mode": {
    "name": "ipython",
    "version": 2
   },
   "file_extension": ".py",
   "mimetype": "text/x-python",
   "name": "python",
   "nbconvert_exporter": "python",
   "pygments_lexer": "ipython2",
   "version": "2.7.6"
  }
 },
 "nbformat": 4,
 "nbformat_minor": 0
}
