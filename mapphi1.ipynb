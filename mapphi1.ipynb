{
 "cells": [
  {
   "cell_type": "code",
   "execution_count": 49,
   "metadata": {
    "collapsed": false,
    "scrolled": true
   },
   "outputs": [
    {
     "data": {
      "image/png": "[encoded data removed]",
      "text/plain": [
       "<matplotlib.figure.Figure at 0x7f9f9690f490>"
      ]
     },
     "metadata": {},
     "output_type": "display_data"
    }
   ],
   "source": [
    "#!/usr/bin/python \n",
    "\n",
    "# Code to map the rotational phase a pulsar, given the geometry of the pulsar. \n",
    "# Input angles are the inclination angle, the impact parameter, and the\n",
    "# polarisation position angle phi. The function takes input angle in degrees and\n",
    "# return an angle R in radians, which in turn used to calculate the x and y \n",
    "# coordinates of the plane of rotation \n",
    "\n",
    "import numpy as np\n",
    "import d2r\n",
    "import matplotlib.pyplot as plt\n",
    "\n",
    "def mapphi(alpha,beta,phi):\n",
    "    \"\"\"\n",
    "    Function to map the rotational phase phi on t.\n",
    "     \n",
    "    Args:\n",
    "    -----\n",
    " \n",
    "        alpha   : inclination angle of the magnetic axis from the rotational axis in degrees. \n",
    "        beta    : impact parameter in degrees (the closest approach of the magnetic axis to the LOS).\n",
    "        phi     : rotational phase in degrees.\n",
    "\n",
    "    Returns:\n",
    "    --------\n",
    "\n",
    "        The coordinates of the plane of rotation xp and yp; both the size of phi.\n",
    "\n",
    "    \"\"\"\n",
    "\n",
    "    cosR = d2r.cosD(alpha+beta) * d2r.cosD(alpha) + \\\n",
    "           d2r.sinD(alpha+beta) * d2r.sinD(alpha) * d2r.cosD(phi)\n",
    "\n",
    "    cosR_corr = d2r.correct(cosR)\n",
    "    R = d2r.acosD(cosR_corr)\n",
    "\n",
    "    # problems with precision for 180 degrees\n",
    "    cosgamma = np.zeros(len(R))\n",
    "    for i in np.arange(len(R)):\n",
    "        if int(R[i]*100.0) == 1800.0:\n",
    "            R[i] = int(R[i]*100.0)/100.0\n",
    "    \n",
    "        if R[i] != 0.0 and R[i] != 180.0 and alpha > 0.0:\n",
    "            cosgamma[i] = (d2r.cosD(alpha+beta) - d2r.cosD(alpha) * cosR[i]) \\\n",
    "                  /(d2r.sinD(alpha) * d2r.sinD(R[i]))\n",
    "        else:\n",
    "             cosgamma[i] = 0.0\n",
    "\n",
    "    cosgamma_corr = d2r.correct(cosgamma) \n",
    "    gamma = d2r.acosD(cosgamma_corr)\n",
    "    xp = R * d2r.sinD(gamma) \n",
    "    \n",
    "    \n",
    "    \n",
    "    if phi[i] > 0.0:\n",
    "        xp[i] = -xp[i]\n",
    "    \n",
    "    yp = -R * cosgamma\n",
    "    \n",
    "    return R, gamma, xp, yp \n",
    "    #return R, gamma, xp, yp\n",
    "#############################################\n",
    "if __name__ == \"__main__\":\n",
    "    phi= np.arange(-180,180)\n",
    "    R, gamma, xp, yp =  mapphi(30,10,phi)\n",
    "    plt.plot(xp, yp)"
   ]
  },
  {
   "cell_type": "code",
   "execution_count": 31,
   "metadata": {
    "collapsed": false
   },
   "outputs": [
    {
     "data": {
      "text/plain": [
       "57.295779513082323"
      ]
     },
     "execution_count": 31,
     "metadata": {},
     "output_type": "execute_result"
    }
   ],
   "source": [
    "np.aco"
   ]
  },
  {
   "cell_type": "code",
   "execution_count": null,
   "metadata": {
    "collapsed": true
   },
   "outputs": [],
   "source": []
  }
 ],
 "metadata": {
  "kernelspec": {
   "display_name": "Python 2",
   "language": "python",
   "name": "python2"
  },
  "language_info": {
   "codemirror_mode": {
    "name": "ipython",
    "version": 2
   },
   "file_extension": ".py",
   "mimetype": "text/x-python",
   "name": "python",
   "nbconvert_exporter": "python",
   "pygments_lexer": "ipython2",
   "version": "2.7.6"
  }
 },
 "nbformat": 4,
 "nbformat_minor": 0
}
